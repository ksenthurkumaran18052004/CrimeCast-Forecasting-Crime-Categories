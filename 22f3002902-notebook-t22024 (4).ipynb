{
 "cells": [
  {
   "cell_type": "code",
   "execution_count": 1,
   "id": "28dfffa6",
   "metadata": {
    "execution": {
     "iopub.execute_input": "2024-07-18T10:21:08.195181Z",
     "iopub.status.busy": "2024-07-18T10:21:08.194804Z",
     "iopub.status.idle": "2024-07-18T10:21:11.135855Z",
     "shell.execute_reply": "2024-07-18T10:21:11.134512Z"
    },
    "papermill": {
     "duration": 2.960959,
     "end_time": "2024-07-18T10:21:11.138839",
     "exception": false,
     "start_time": "2024-07-18T10:21:08.177880",
     "status": "completed"
    },
    "tags": []
   },
   "outputs": [],
   "source": [
    "import pandas as pd\n",
    "import numpy as np\n",
    "from sklearn.model_selection import train_test_split, StratifiedKFold, RandomizedSearchCV\n",
    "from sklearn.preprocessing import StandardScaler, OneHotEncoder, PolynomialFeatures\n",
    "from sklearn.compose import ColumnTransformer\n",
    "from sklearn.pipeline import Pipeline\n",
    "from sklearn.impute import SimpleImputer\n",
    "from sklearn.metrics import accuracy_score\n",
    "from sklearn.linear_model import LogisticRegression\n",
    "from sklearn.tree import DecisionTreeClassifier\n",
    "from sklearn.neighbors import KNeighborsClassifier\n",
    "from sklearn.svm import SVC\n",
    "from sklearn.ensemble import RandomForestClassifier, GradientBoostingClassifier, BaggingClassifier\n",
    "from sklearn.neural_network import MLPClassifier\n",
    "import warnings\n",
    "warnings.filterwarnings(\"ignore\")\n",
    "\n",
    "# Load the datasets\n",
    "train_data = pd.read_csv('/kaggle/input/crime-cast-forecasting-crime-categories/train.csv')\n",
    "test_data = pd.read_csv('/kaggle/input/crime-cast-forecasting-crime-categories/test.csv')"
   ]
  },
  {
   "cell_type": "code",
   "execution_count": 2,
   "id": "dac24e25",
   "metadata": {
    "execution": {
     "iopub.execute_input": "2024-07-18T10:21:11.172482Z",
     "iopub.status.busy": "2024-07-18T10:21:11.171264Z",
     "iopub.status.idle": "2024-07-18T10:21:11.535230Z",
     "shell.execute_reply": "2024-07-18T10:21:11.534144Z"
    },
    "papermill": {
     "duration": 0.384148,
     "end_time": "2024-07-18T10:21:11.538051",
     "exception": false,
     "start_time": "2024-07-18T10:21:11.153903",
     "status": "completed"
    },
    "tags": []
   },
   "outputs": [],
   "source": [
    "# Extract date and time features\n",
    "def extract_date_features(df):\n",
    "    df['Date_Reported'] = pd.to_datetime(df['Date_Reported'])\n",
    "    df['Date_Occurred'] = pd.to_datetime(df['Date_Occurred'])\n",
    "    df['Year_Reported'] = df['Date_Reported'].dt.year\n",
    "    df['Month_Reported'] = df['Date_Reported'].dt.month\n",
    "    df['Day_Reported'] = df['Date_Reported'].dt.day\n",
    "    df['Hour_Occurred'] = df['Date_Occurred'].dt.hour\n",
    "    df['Day_Of_Week_Reported'] = df['Date_Reported'].dt.dayofweek\n",
    "    df['Day_Of_Week_Occurred'] = df['Date_Occurred'].dt.dayofweek\n",
    "    df.drop(columns=['Date_Reported', 'Date_Occurred'], inplace=True)\n",
    "\n",
    "# Apply feature extraction\n",
    "extract_date_features(train_data)\n",
    "extract_date_features(test_data)\n",
    "\n",
    "# Separate features and target variable from training data\n",
    "X = train_data.drop(columns=['Crime_Category'])\n",
    "y = train_data['Crime_Category']\n",
    "\n",
    "# Identify numeric and categorical features\n",
    "num_features = X.select_dtypes(include=['int64', 'float64']).columns\n",
    "cat_features = X.select_dtypes(include=['object']).columns\n",
    "\n",
    "# Preprocessing pipelines for numeric and categorical data\n",
    "num_transformer = Pipeline(steps=[\n",
    "    ('imputer', SimpleImputer(strategy='mean')),\n",
    "    ('poly', PolynomialFeatures(degree=2, include_bias=False)),\n",
    "    ('scaler', StandardScaler())\n",
    "])\n",
    "\n",
    "cat_transformer = Pipeline(steps=[\n",
    "    ('imputer', SimpleImputer(strategy='constant', fill_value='missing')),\n",
    "    ('onehot', OneHotEncoder(handle_unknown='ignore'))\n",
    "])\n",
    "\n",
    "# Combine preprocessing steps\n",
    "preprocessor = ColumnTransformer(\n",
    "    transformers=[\n",
    "        ('num', num_transformer, num_features),\n",
    "        ('cat', cat_transformer, cat_features)\n",
    "    ]\n",
    ")\n"
   ]
  },
  {
   "cell_type": "code",
   "execution_count": 3,
   "id": "02b4465a",
   "metadata": {
    "execution": {
     "iopub.execute_input": "2024-07-18T10:21:11.569184Z",
     "iopub.status.busy": "2024-07-18T10:21:11.568798Z",
     "iopub.status.idle": "2024-07-18T10:22:23.491183Z",
     "shell.execute_reply": "2024-07-18T10:22:23.490066Z"
    },
    "papermill": {
     "duration": 71.956414,
     "end_time": "2024-07-18T10:22:23.509197",
     "exception": false,
     "start_time": "2024-07-18T10:21:11.552783",
     "status": "completed"
    },
    "tags": []
   },
   "outputs": [
    {
     "name": "stdout",
     "output_type": "stream",
     "text": [
      "Baseline Logistic Regression Validation Accuracy: 0.8850\n"
     ]
    }
   ],
   "source": [
    "# Split data into training and validation sets\n",
    "X_train, X_val, y_train, y_val = train_test_split(X, y, test_size=0.2, random_state=42)\n",
    "\n",
    "# Define cross-validation strategy\n",
    "cv = StratifiedKFold(n_splits=5, shuffle=True, random_state=42)\n",
    "\n",
    "# Baseline model: Logistic Regression with basic settings\n",
    "baseline_pipeline = Pipeline(steps=[\n",
    "    ('preprocessor', preprocessor),\n",
    "    ('classifier', LogisticRegression(max_iter=5000))  # Increased max_iter\n",
    "])\n",
    "\n",
    "baseline_pipeline.fit(X_train, y_train)\n",
    "baseline_val_accuracy = accuracy_score(y_val, baseline_pipeline.predict(X_val))\n",
    "print(f\"Baseline Logistic Regression Validation Accuracy: {baseline_val_accuracy:.4f}\")"
   ]
  },
  {
   "cell_type": "code",
   "execution_count": 4,
   "id": "3b2ec66f",
   "metadata": {
    "execution": {
     "iopub.execute_input": "2024-07-18T10:22:23.542902Z",
     "iopub.status.busy": "2024-07-18T10:22:23.542484Z",
     "iopub.status.idle": "2024-07-18T10:22:23.547739Z",
     "shell.execute_reply": "2024-07-18T10:22:23.546497Z"
    },
    "papermill": {
     "duration": 0.025142,
     "end_time": "2024-07-18T10:22:23.550177",
     "exception": false,
     "start_time": "2024-07-18T10:22:23.525035",
     "status": "completed"
    },
    "tags": []
   },
   "outputs": [],
   "source": [
    "# # Save baseline predictions to CSV\n",
    "# test_predictions_baseline = baseline_pipeline.predict(test_data)\n",
    "# submission_df_baseline = pd.DataFrame({\n",
    "#     'ID': range(1, len(test_predictions_baseline) + 1),\n",
    "#     'Crime_Category': test_predictions_baseline\n",
    "# })\n",
    "# submission_df_baseline.to_csv('submission_baseline.csv', index=False)"
   ]
  },
  {
   "cell_type": "code",
   "execution_count": 5,
   "id": "2531b7e8",
   "metadata": {
    "execution": {
     "iopub.execute_input": "2024-07-18T10:22:23.582467Z",
     "iopub.status.busy": "2024-07-18T10:22:23.581398Z",
     "iopub.status.idle": "2024-07-18T10:23:32.900753Z",
     "shell.execute_reply": "2024-07-18T10:23:32.899517Z"
    },
    "papermill": {
     "duration": 69.352467,
     "end_time": "2024-07-18T10:23:32.917641",
     "exception": false,
     "start_time": "2024-07-18T10:22:23.565174",
     "status": "completed"
    },
    "tags": []
   },
   "outputs": [
    {
     "name": "stdout",
     "output_type": "stream",
     "text": [
      "Baseline Logistic Regression Validation Accuracy: 0.8850\n"
     ]
    }
   ],
   "source": [
    "# Baseline model: Logistic Regression with basic settings\n",
    "baseline_pipeline = Pipeline(steps=[\n",
    "    ('preprocessor', preprocessor),\n",
    "    ('classifier', LogisticRegression(max_iter=5000))  # Increased max_iter\n",
    "])\n",
    "\n",
    "baseline_pipeline.fit(X_train, y_train)\n",
    "baseline_val_accuracy = accuracy_score(y_val, baseline_pipeline.predict(X_val))\n",
    "print(f\"Baseline Logistic Regression Validation Accuracy: {baseline_val_accuracy:.4f}\")"
   ]
  },
  {
   "cell_type": "code",
   "execution_count": 6,
   "id": "8ba32533",
   "metadata": {
    "execution": {
     "iopub.execute_input": "2024-07-18T10:23:32.950189Z",
     "iopub.status.busy": "2024-07-18T10:23:32.949362Z",
     "iopub.status.idle": "2024-07-18T10:24:43.489916Z",
     "shell.execute_reply": "2024-07-18T10:24:43.488626Z"
    },
    "papermill": {
     "duration": 70.57775,
     "end_time": "2024-07-18T10:24:43.510293",
     "exception": false,
     "start_time": "2024-07-18T10:23:32.932543",
     "status": "completed"
    },
    "tags": []
   },
   "outputs": [
    {
     "name": "stdout",
     "output_type": "stream",
     "text": [
      "Polynomial Regression Validation Accuracy: 0.8850\n"
     ]
    }
   ],
   "source": [
    "# Polynomial Regression pipeline\n",
    "poly_pipeline = Pipeline(steps=[\n",
    "    ('preprocessor', preprocessor),\n",
    "    ('classifier', LogisticRegression(max_iter=5000))\n",
    "])\n",
    "\n",
    "# Fit and evaluate the pipeline\n",
    "poly_pipeline.fit(X_train, y_train)\n",
    "poly_val_accuracy = accuracy_score(y_val, poly_pipeline.predict(X_val))\n",
    "print(f\"Polynomial Regression Validation Accuracy: {poly_val_accuracy:.4f}\")"
   ]
  },
  {
   "cell_type": "code",
   "execution_count": 7,
   "id": "357bd000",
   "metadata": {
    "execution": {
     "iopub.execute_input": "2024-07-18T10:24:43.554850Z",
     "iopub.status.busy": "2024-07-18T10:24:43.554332Z",
     "iopub.status.idle": "2024-07-18T10:24:43.725135Z",
     "shell.execute_reply": "2024-07-18T10:24:43.723857Z"
    },
    "papermill": {
     "duration": 0.196527,
     "end_time": "2024-07-18T10:24:43.728090",
     "exception": false,
     "start_time": "2024-07-18T10:24:43.531563",
     "status": "completed"
    },
    "tags": []
   },
   "outputs": [],
   "source": [
    "# Save polynomial regression predictions to CSV\n",
    "test_predictions_poly = poly_pipeline.predict(test_data)\n",
    "submission_df_poly = pd.DataFrame({\n",
    "    'ID': range(1, len(test_predictions_poly) + 1),\n",
    "    'Crime_Category': test_predictions_poly\n",
    "})\n",
    "submission_df_poly.to_csv('submission.csv', index=False)"
   ]
  },
  {
   "cell_type": "code",
   "execution_count": 8,
   "id": "62a4ff6e",
   "metadata": {
    "execution": {
     "iopub.execute_input": "2024-07-18T10:24:43.760525Z",
     "iopub.status.busy": "2024-07-18T10:24:43.760100Z",
     "iopub.status.idle": "2024-07-18T10:30:21.586953Z",
     "shell.execute_reply": "2024-07-18T10:30:21.585705Z"
    },
    "papermill": {
     "duration": 337.860737,
     "end_time": "2024-07-18T10:30:21.603992",
     "exception": false,
     "start_time": "2024-07-18T10:24:43.743255",
     "status": "completed"
    },
    "tags": []
   },
   "outputs": [
    {
     "name": "stdout",
     "output_type": "stream",
     "text": [
      "Fitting 3 folds for each of 10 candidates, totalling 30 fits\n",
      "Logistic Regression Validation Accuracy: 0.8838\n",
      "Best Parameters: {'classifier__solver': 'lbfgs', 'classifier__C': 29.763514416313132}\n"
     ]
    }
   ],
   "source": [
    "# Logistic Regression with cross-validation and hyperparameter tuning\n",
    "logistic_pipeline = Pipeline(steps=[\n",
    "    ('preprocessor', preprocessor),\n",
    "    ('classifier', LogisticRegression(max_iter=5000))  # Increased max_iter\n",
    "])\n",
    "\n",
    "param_grid_logistic = {\n",
    "    'classifier__C': np.logspace(-4, 4, 20),\n",
    "    'classifier__solver': ['liblinear', 'lbfgs']\n",
    "}\n",
    "\n",
    "# Define cross-validation strategy with reduced number of folds\n",
    "cv_reduced = StratifiedKFold(n_splits=3, shuffle=True, random_state=42)\n",
    "\n",
    "random_search_logistic = RandomizedSearchCV(logistic_pipeline, param_distributions=param_grid_logistic, n_iter=10, cv=cv_reduced, verbose=1, random_state=42, n_jobs=-1)\n",
    "random_search_logistic.fit(X_train, y_train)\n",
    "logistic_val_accuracy = accuracy_score(y_val, random_search_logistic.predict(X_val))\n",
    "print(f\"Logistic Regression Validation Accuracy: {logistic_val_accuracy:.4f}\")\n",
    "print(f\"Best Parameters: {random_search_logistic.best_params_}\")\n"
   ]
  },
  {
   "cell_type": "code",
   "execution_count": 9,
   "id": "7c42fd6b",
   "metadata": {
    "execution": {
     "iopub.execute_input": "2024-07-18T10:30:21.638352Z",
     "iopub.status.busy": "2024-07-18T10:30:21.637924Z",
     "iopub.status.idle": "2024-07-18T10:30:21.643359Z",
     "shell.execute_reply": "2024-07-18T10:30:21.642200Z"
    },
    "papermill": {
     "duration": 0.026663,
     "end_time": "2024-07-18T10:30:21.646035",
     "exception": false,
     "start_time": "2024-07-18T10:30:21.619372",
     "status": "completed"
    },
    "tags": []
   },
   "outputs": [],
   "source": [
    "# # Save logistic regression predictions to CSV\n",
    "# test_predictions_logistic = random_search_logistic.predict(test_data)\n",
    "# submission_df_logistic = pd.DataFrame({\n",
    "#     'ID': range(1, len(test_predictions_logistic) + 1),\n",
    "#     'Crime_Category': test_predictions_logistic\n",
    "# })\n",
    "# submission_df_logistic.to_csv('submission_logistic.csv', index=False)\n"
   ]
  },
  {
   "cell_type": "code",
   "execution_count": null,
   "id": "33304c6c",
   "metadata": {
    "papermill": {
     "duration": 0.015174,
     "end_time": "2024-07-18T10:30:21.676686",
     "exception": false,
     "start_time": "2024-07-18T10:30:21.661512",
     "status": "completed"
    },
    "tags": []
   },
   "outputs": [],
   "source": []
  },
  {
   "cell_type": "code",
   "execution_count": 10,
   "id": "90f110f9",
   "metadata": {
    "execution": {
     "iopub.execute_input": "2024-07-18T10:30:21.709682Z",
     "iopub.status.busy": "2024-07-18T10:30:21.708724Z",
     "iopub.status.idle": "2024-07-18T10:30:42.009166Z",
     "shell.execute_reply": "2024-07-18T10:30:42.007750Z"
    },
    "papermill": {
     "duration": 20.320013,
     "end_time": "2024-07-18T10:30:42.012023",
     "exception": false,
     "start_time": "2024-07-18T10:30:21.692010",
     "status": "completed"
    },
    "tags": []
   },
   "outputs": [
    {
     "name": "stdout",
     "output_type": "stream",
     "text": [
      "Fitting 3 folds for each of 10 candidates, totalling 30 fits\n",
      "Decision Tree Validation Accuracy: 0.8605\n",
      "Best Parameters: {'classifier__min_samples_split': 10, 'classifier__min_samples_leaf': 4, 'classifier__max_depth': 10}\n"
     ]
    }
   ],
   "source": [
    "# Decision Tree with cross-validation and hyperparameter tuning\n",
    "decision_tree_pipeline = Pipeline(steps=[\n",
    "    ('preprocessor', preprocessor),\n",
    "    ('classifier', DecisionTreeClassifier(random_state=42))\n",
    "])\n",
    "\n",
    "param_grid_decision_tree = {\n",
    "    'classifier__max_depth': [10, 20, 30, None],\n",
    "    'classifier__min_samples_split': [2, 5, 10],\n",
    "    'classifier__min_samples_leaf': [1, 2, 4]\n",
    "}\n",
    "\n",
    "# Define cross-validation strategy with reduced number of folds\n",
    "cv_reduced = StratifiedKFold(n_splits=3, shuffle=True, random_state=42)\n",
    "\n",
    "random_search_decision_tree = RandomizedSearchCV(decision_tree_pipeline, param_distributions=param_grid_decision_tree, n_iter=10, cv=cv_reduced, verbose=1, random_state=42, n_jobs=-1)\n",
    "random_search_decision_tree.fit(X_train, y_train)\n",
    "decision_tree_val_accuracy = accuracy_score(y_val, random_search_decision_tree.predict(X_val))\n",
    "print(f\"Decision Tree Validation Accuracy: {decision_tree_val_accuracy:.4f}\")\n",
    "print(f\"Best Parameters: {random_search_decision_tree.best_params_}\")\n"
   ]
  },
  {
   "cell_type": "code",
   "execution_count": 11,
   "id": "f1bce1ff",
   "metadata": {
    "execution": {
     "iopub.execute_input": "2024-07-18T10:30:42.047162Z",
     "iopub.status.busy": "2024-07-18T10:30:42.046775Z",
     "iopub.status.idle": "2024-07-18T10:30:42.052217Z",
     "shell.execute_reply": "2024-07-18T10:30:42.050930Z"
    },
    "papermill": {
     "duration": 0.026367,
     "end_time": "2024-07-18T10:30:42.054966",
     "exception": false,
     "start_time": "2024-07-18T10:30:42.028599",
     "status": "completed"
    },
    "tags": []
   },
   "outputs": [],
   "source": [
    "# # Predict on the test set and save to CSV\n",
    "# test_predictions_decision_tree = random_search_decision_tree.predict(test_data)\n",
    "# submission_df_decision_tree = pd.DataFrame({\n",
    "#     'ID': range(1, len(test_predictions_decision_tree) + 1),\n",
    "#     'Crime_Category': test_predictions_decision_tree\n",
    "# })\n",
    "# submission_df_decision_tree.to_csv('submission_decision_tree.csv', index=False)\n"
   ]
  },
  {
   "cell_type": "code",
   "execution_count": 12,
   "id": "6046f381",
   "metadata": {
    "execution": {
     "iopub.execute_input": "2024-07-18T10:30:42.088517Z",
     "iopub.status.busy": "2024-07-18T10:30:42.087397Z",
     "iopub.status.idle": "2024-07-18T10:53:09.202218Z",
     "shell.execute_reply": "2024-07-18T10:53:09.200967Z"
    },
    "papermill": {
     "duration": 1347.14755,
     "end_time": "2024-07-18T10:53:09.217996",
     "exception": false,
     "start_time": "2024-07-18T10:30:42.070446",
     "status": "completed"
    },
    "tags": []
   },
   "outputs": [
    {
     "name": "stdout",
     "output_type": "stream",
     "text": [
      "Fitting 3 folds for each of 10 candidates, totalling 30 fits\n",
      "K-Nearest Neighbors Validation Accuracy: 0.8135\n",
      "Best Parameters: {'classifier__weights': 'distance', 'classifier__n_neighbors': 9, 'classifier__metric': 'manhattan'}\n"
     ]
    }
   ],
   "source": [
    "# K-Nearest Neighbors with cross-validation and hyperparameter tuning\n",
    "knn_pipeline = Pipeline(steps=[\n",
    "    ('preprocessor', preprocessor),\n",
    "    ('classifier', KNeighborsClassifier())\n",
    "])\n",
    "\n",
    "param_grid_knn = {\n",
    "    'classifier__n_neighbors': [3, 5, 7, 9],\n",
    "    'classifier__weights': ['uniform', 'distance'],\n",
    "    'classifier__metric': ['euclidean', 'manhattan']\n",
    "}\n",
    "\n",
    "# Define cross-validation strategy with reduced number of folds\n",
    "cv_reduced = StratifiedKFold(n_splits=3, shuffle=True, random_state=42)\n",
    "\n",
    "random_search_knn = RandomizedSearchCV(knn_pipeline, param_distributions=param_grid_knn, n_iter=10, cv=cv_reduced, verbose=1, random_state=42, n_jobs=-1)\n",
    "random_search_knn.fit(X_train, y_train)\n",
    "knn_val_accuracy = accuracy_score(y_val, random_search_knn.predict(X_val))\n",
    "print(f\"K-Nearest Neighbors Validation Accuracy: {knn_val_accuracy:.4f}\")\n",
    "print(f\"Best Parameters: {random_search_knn.best_params_}\")\n"
   ]
  },
  {
   "cell_type": "code",
   "execution_count": 13,
   "id": "9d670178",
   "metadata": {
    "execution": {
     "iopub.execute_input": "2024-07-18T10:53:09.320630Z",
     "iopub.status.busy": "2024-07-18T10:53:09.320151Z",
     "iopub.status.idle": "2024-07-18T10:53:09.325498Z",
     "shell.execute_reply": "2024-07-18T10:53:09.324177Z"
    },
    "papermill": {
     "duration": 0.093537,
     "end_time": "2024-07-18T10:53:09.328047",
     "exception": false,
     "start_time": "2024-07-18T10:53:09.234510",
     "status": "completed"
    },
    "tags": []
   },
   "outputs": [],
   "source": [
    "# # Predict on the test set and save to CSV\n",
    "# test_predictions_knn = random_search_knn.predict(test_data)\n",
    "# submission_df_knn = pd.DataFrame({\n",
    "#     'ID': range(1, len(test_predictions_knn) + 1),\n",
    "#     'Crime_Category': test_predictions_knn\n",
    "# })\n",
    "# submission_df_knn.to_csv('submission_knn.csv', index=False)"
   ]
  },
  {
   "cell_type": "code",
   "execution_count": 14,
   "id": "b776cd78",
   "metadata": {
    "execution": {
     "iopub.execute_input": "2024-07-18T10:53:09.361081Z",
     "iopub.status.busy": "2024-07-18T10:53:09.360680Z",
     "iopub.status.idle": "2024-07-18T11:01:25.462774Z",
     "shell.execute_reply": "2024-07-18T11:01:25.461510Z"
    },
    "papermill": {
     "duration": 496.137216,
     "end_time": "2024-07-18T11:01:25.481092",
     "exception": false,
     "start_time": "2024-07-18T10:53:09.343876",
     "status": "completed"
    },
    "tags": []
   },
   "outputs": [
    {
     "name": "stdout",
     "output_type": "stream",
     "text": [
      "Fitting 3 folds for each of 10 candidates, totalling 30 fits\n",
      "Support Vector Classifier Validation Accuracy: 0.8870\n",
      "Best Parameters: {'classifier__kernel': 'rbf', 'classifier__gamma': 0.001, 'classifier__C': 100}\n"
     ]
    }
   ],
   "source": [
    "# Support Vector Classifier with cross-validation and hyperparameter tuning\n",
    "svc_pipeline = Pipeline(steps=[\n",
    "    ('preprocessor', preprocessor),\n",
    "    ('classifier', SVC())\n",
    "])\n",
    "\n",
    "param_grid_svc = {\n",
    "    'classifier__C': [0.1, 1, 10, 100],\n",
    "    'classifier__gamma': [1, 0.1, 0.01, 0.001],\n",
    "    'classifier__kernel': ['rbf', 'linear']\n",
    "}\n",
    "\n",
    "# Define cross-validation strategy with reduced number of folds\n",
    "cv_reduced = StratifiedKFold(n_splits=3, shuffle=True, random_state=42)\n",
    "\n",
    "random_search_svc = RandomizedSearchCV(svc_pipeline, param_distributions=param_grid_svc, n_iter=10, cv=cv_reduced, verbose=1, random_state=42, n_jobs=-1)\n",
    "random_search_svc.fit(X_train, y_train)\n",
    "svc_val_accuracy = accuracy_score(y_val, random_search_svc.predict(X_val))\n",
    "print(f\"Support Vector Classifier Validation Accuracy: {svc_val_accuracy:.4f}\")\n",
    "print(f\"Best Parameters: {random_search_svc.best_params_}\")\n"
   ]
  },
  {
   "cell_type": "code",
   "execution_count": 15,
   "id": "58e6d3a6",
   "metadata": {
    "execution": {
     "iopub.execute_input": "2024-07-18T11:01:25.514629Z",
     "iopub.status.busy": "2024-07-18T11:01:25.514203Z",
     "iopub.status.idle": "2024-07-18T11:01:25.519240Z",
     "shell.execute_reply": "2024-07-18T11:01:25.518063Z"
    },
    "papermill": {
     "duration": 0.02474,
     "end_time": "2024-07-18T11:01:25.521681",
     "exception": false,
     "start_time": "2024-07-18T11:01:25.496941",
     "status": "completed"
    },
    "tags": []
   },
   "outputs": [],
   "source": [
    "# # Predict on the test set and save to CSV\n",
    "# test_predictions_svc = random_search_svc.predict(test_data)\n",
    "# submission_df_svc = pd.DataFrame({\n",
    "#     'ID': range(1, len(test_predictions_svc) + 1),\n",
    "#     'Crime_Category': test_predictions_svc\n",
    "# })\n",
    "# submission_df_svc.to_csv('submission_svc.csv', index=False)"
   ]
  },
  {
   "cell_type": "code",
   "execution_count": 16,
   "id": "03d14a10",
   "metadata": {
    "execution": {
     "iopub.execute_input": "2024-07-18T11:01:25.556074Z",
     "iopub.status.busy": "2024-07-18T11:01:25.554993Z",
     "iopub.status.idle": "2024-07-18T11:02:13.537443Z",
     "shell.execute_reply": "2024-07-18T11:02:13.536354Z"
    },
    "papermill": {
     "duration": 48.018808,
     "end_time": "2024-07-18T11:02:13.556482",
     "exception": false,
     "start_time": "2024-07-18T11:01:25.537674",
     "status": "completed"
    },
    "tags": []
   },
   "outputs": [
    {
     "name": "stdout",
     "output_type": "stream",
     "text": [
      "Fitting 3 folds for each of 10 candidates, totalling 30 fits\n"
     ]
    },
    {
     "name": "stderr",
     "output_type": "stream",
     "text": [
      "/opt/conda/lib/python3.10/site-packages/sklearn/ensemble/_forest.py:424: FutureWarning: `max_features='auto'` has been deprecated in 1.1 and will be removed in 1.3. To keep the past behaviour, explicitly set `max_features='sqrt'` or remove this parameter as it is also the default value for RandomForestClassifiers and ExtraTreesClassifiers.\n",
      "  warn(\n",
      "/opt/conda/lib/python3.10/site-packages/sklearn/ensemble/_forest.py:424: FutureWarning: `max_features='auto'` has been deprecated in 1.1 and will be removed in 1.3. To keep the past behaviour, explicitly set `max_features='sqrt'` or remove this parameter as it is also the default value for RandomForestClassifiers and ExtraTreesClassifiers.\n",
      "  warn(\n",
      "/opt/conda/lib/python3.10/site-packages/sklearn/ensemble/_forest.py:424: FutureWarning: `max_features='auto'` has been deprecated in 1.1 and will be removed in 1.3. To keep the past behaviour, explicitly set `max_features='sqrt'` or remove this parameter as it is also the default value for RandomForestClassifiers and ExtraTreesClassifiers.\n",
      "  warn(\n",
      "/opt/conda/lib/python3.10/site-packages/sklearn/ensemble/_forest.py:424: FutureWarning: `max_features='auto'` has been deprecated in 1.1 and will be removed in 1.3. To keep the past behaviour, explicitly set `max_features='sqrt'` or remove this parameter as it is also the default value for RandomForestClassifiers and ExtraTreesClassifiers.\n",
      "  warn(\n",
      "/opt/conda/lib/python3.10/site-packages/sklearn/ensemble/_forest.py:424: FutureWarning: `max_features='auto'` has been deprecated in 1.1 and will be removed in 1.3. To keep the past behaviour, explicitly set `max_features='sqrt'` or remove this parameter as it is also the default value for RandomForestClassifiers and ExtraTreesClassifiers.\n",
      "  warn(\n",
      "/opt/conda/lib/python3.10/site-packages/sklearn/ensemble/_forest.py:424: FutureWarning: `max_features='auto'` has been deprecated in 1.1 and will be removed in 1.3. To keep the past behaviour, explicitly set `max_features='sqrt'` or remove this parameter as it is also the default value for RandomForestClassifiers and ExtraTreesClassifiers.\n",
      "  warn(\n",
      "/opt/conda/lib/python3.10/site-packages/sklearn/ensemble/_forest.py:424: FutureWarning: `max_features='auto'` has been deprecated in 1.1 and will be removed in 1.3. To keep the past behaviour, explicitly set `max_features='sqrt'` or remove this parameter as it is also the default value for RandomForestClassifiers and ExtraTreesClassifiers.\n",
      "  warn(\n",
      "/opt/conda/lib/python3.10/site-packages/sklearn/ensemble/_forest.py:424: FutureWarning: `max_features='auto'` has been deprecated in 1.1 and will be removed in 1.3. To keep the past behaviour, explicitly set `max_features='sqrt'` or remove this parameter as it is also the default value for RandomForestClassifiers and ExtraTreesClassifiers.\n",
      "  warn(\n",
      "/opt/conda/lib/python3.10/site-packages/sklearn/ensemble/_forest.py:424: FutureWarning: `max_features='auto'` has been deprecated in 1.1 and will be removed in 1.3. To keep the past behaviour, explicitly set `max_features='sqrt'` or remove this parameter as it is also the default value for RandomForestClassifiers and ExtraTreesClassifiers.\n",
      "  warn(\n"
     ]
    },
    {
     "name": "stdout",
     "output_type": "stream",
     "text": [
      "Random Forest Validation Accuracy: 0.8472\n",
      "Best Parameters: {'classifier__n_estimators': 200, 'classifier__min_samples_split': 10, 'classifier__min_samples_leaf': 1, 'classifier__max_features': 'sqrt', 'classifier__max_depth': 30}\n"
     ]
    }
   ],
   "source": [
    "# Random Forest with cross-validation and hyperparameter tuning\n",
    "random_forest_pipeline = Pipeline(steps=[\n",
    "    ('preprocessor', preprocessor),\n",
    "    ('classifier', RandomForestClassifier(random_state=42))\n",
    "])\n",
    "\n",
    "param_grid_random_forest = {\n",
    "    'classifier__n_estimators': [100, 200, 300],\n",
    "    'classifier__max_features': ['auto', 'sqrt', 'log2'],\n",
    "    'classifier__max_depth': [10, 20, 30, None],\n",
    "    'classifier__min_samples_split': [2, 5, 10],\n",
    "    'classifier__min_samples_leaf': [1, 2, 4]\n",
    "}\n",
    "\n",
    "# Define cross-validation strategy with reduced number of folds\n",
    "cv_reduced = StratifiedKFold(n_splits=3, shuffle=True, random_state=42)\n",
    "\n",
    "random_search_random_forest = RandomizedSearchCV(random_forest_pipeline, param_distributions=param_grid_random_forest, n_iter=10, cv=cv_reduced, verbose=1, random_state=42, n_jobs=-1)\n",
    "random_search_random_forest.fit(X_train, y_train)\n",
    "random_forest_val_accuracy = accuracy_score(y_val, random_search_random_forest.predict(X_val))\n",
    "print(f\"Random Forest Validation Accuracy: {random_forest_val_accuracy:.4f}\")\n",
    "print(f\"Best Parameters: {random_search_random_forest.best_params_}\")\n"
   ]
  },
  {
   "cell_type": "code",
   "execution_count": 17,
   "id": "fc9d9616",
   "metadata": {
    "execution": {
     "iopub.execute_input": "2024-07-18T11:02:13.592260Z",
     "iopub.status.busy": "2024-07-18T11:02:13.591836Z",
     "iopub.status.idle": "2024-07-18T11:05:09.328752Z",
     "shell.execute_reply": "2024-07-18T11:05:09.327404Z"
    },
    "papermill": {
     "duration": 175.774004,
     "end_time": "2024-07-18T11:05:09.347407",
     "exception": false,
     "start_time": "2024-07-18T11:02:13.573403",
     "status": "completed"
    },
    "tags": []
   },
   "outputs": [
    {
     "name": "stdout",
     "output_type": "stream",
     "text": [
      "Fitting 3 folds for each of 3 candidates, totalling 9 fits\n",
      "Bagging Classifier Validation Accuracy: 0.8698\n",
      "Best Parameters: {'classifier__n_estimators': 50, 'classifier__max_samples': 0.5, 'classifier__max_features': 1.0}\n"
     ]
    }
   ],
   "source": [
    "# Bagging Classifier with cross-validation and hyperparameter tuning\n",
    "bagging_pipeline = Pipeline(steps=[\n",
    "    ('preprocessor', preprocessor),\n",
    "    ('classifier', BaggingClassifier(random_state=42))\n",
    "])\n",
    "\n",
    "param_grid_bagging = {\n",
    "    'classifier__n_estimators': [10, 50],\n",
    "    'classifier__max_samples': [0.5, 1.0],\n",
    "    'classifier__max_features': [0.5, 1.0]\n",
    "}\n",
    "\n",
    "random_search_bagging = RandomizedSearchCV(bagging_pipeline, param_distributions=param_grid_bagging, n_iter=3, cv=3, verbose=1, random_state=42, n_jobs=-1)\n",
    "random_search_bagging.fit(X_train, y_train)\n",
    "bagging_val_accuracy = accuracy_score(y_val, random_search_bagging.predict(X_val))\n",
    "print(f\"Bagging Classifier Validation Accuracy: {bagging_val_accuracy:.4f}\")\n",
    "print(f\"Best Parameters: {random_search_bagging.best_params_}\")\n"
   ]
  },
  {
   "cell_type": "code",
   "execution_count": 18,
   "id": "073f4879",
   "metadata": {
    "execution": {
     "iopub.execute_input": "2024-07-18T11:05:09.382600Z",
     "iopub.status.busy": "2024-07-18T11:05:09.382095Z",
     "iopub.status.idle": "2024-07-18T11:07:59.285952Z",
     "shell.execute_reply": "2024-07-18T11:07:59.284782Z"
    },
    "papermill": {
     "duration": 169.941274,
     "end_time": "2024-07-18T11:07:59.305162",
     "exception": false,
     "start_time": "2024-07-18T11:05:09.363888",
     "status": "completed"
    },
    "tags": []
   },
   "outputs": [
    {
     "name": "stdout",
     "output_type": "stream",
     "text": [
      "Starting Gradient Boosting training...\n",
      "Fitting 3 folds for each of 1 candidates, totalling 3 fits\n",
      "Gradient Boosting training completed.\n",
      "Gradient Boosting Validation Accuracy: 0.8775\n",
      "Best Parameters: {'classifier__n_estimators': 50, 'classifier__max_depth': 3, 'classifier__learning_rate': 0.1}\n"
     ]
    }
   ],
   "source": [
    "# Gradient Boosting with cross-validation and hyperparameter tuning\n",
    "gradient_boosting_pipeline = Pipeline(steps=[\n",
    "    ('preprocessor', preprocessor),\n",
    "    ('classifier', GradientBoostingClassifier(random_state=42))\n",
    "])\n",
    "\n",
    "param_grid_gradient_boosting = {\n",
    "    'classifier__n_estimators': [50],\n",
    "    'classifier__learning_rate': [0.1],\n",
    "    'classifier__max_depth': [3]\n",
    "}\n",
    "\n",
    "# Define cross-validation strategy with reduced number of folds\n",
    "cv_reduced = StratifiedKFold(n_splits=3, shuffle=True, random_state=42)\n",
    "\n",
    "random_search_gradient_boosting = RandomizedSearchCV(gradient_boosting_pipeline, param_distributions=param_grid_gradient_boosting, n_iter=3, cv=cv_reduced, verbose=1, random_state=42, n_jobs=-1)\n",
    "print(\"Starting Gradient Boosting training...\")\n",
    "random_search_gradient_boosting.fit(X_train, y_train)\n",
    "print(\"Gradient Boosting training completed.\")\n",
    "\n",
    "gradient_boosting_val_accuracy = accuracy_score(y_val, random_search_gradient_boosting.predict(X_val))\n",
    "print(f\"Gradient Boosting Validation Accuracy: {gradient_boosting_val_accuracy:.4f}\")\n",
    "print(f\"Best Parameters: {random_search_gradient_boosting.best_params_}\")\n"
   ]
  },
  {
   "cell_type": "code",
   "execution_count": 19,
   "id": "b1e506ff",
   "metadata": {
    "execution": {
     "iopub.execute_input": "2024-07-18T11:07:59.342287Z",
     "iopub.status.busy": "2024-07-18T11:07:59.341626Z",
     "iopub.status.idle": "2024-07-18T11:07:59.346666Z",
     "shell.execute_reply": "2024-07-18T11:07:59.345598Z"
    },
    "papermill": {
     "duration": 0.025482,
     "end_time": "2024-07-18T11:07:59.348999",
     "exception": false,
     "start_time": "2024-07-18T11:07:59.323517",
     "status": "completed"
    },
    "tags": []
   },
   "outputs": [],
   "source": [
    "# # Predict on the test set and save to CSV\n",
    "# test_predictions_gradient_boosting = random_search_gradient_boosting.predict(test_data)\n",
    "# submission_df_gradient_boosting = pd.DataFrame({\n",
    "#     'ID': range(1, len(test_predictions_gradient_boosting) + 1),\n",
    "#     'Crime_Category': test_predictions_gradient_boosting\n",
    "# })\n",
    "# submission_df_gradient_boosting.to_csv('submission_gradient_boosting.csv', index=False)"
   ]
  },
  {
   "cell_type": "code",
   "execution_count": 20,
   "id": "241a9218",
   "metadata": {
    "execution": {
     "iopub.execute_input": "2024-07-18T11:07:59.384853Z",
     "iopub.status.busy": "2024-07-18T11:07:59.384462Z",
     "iopub.status.idle": "2024-07-18T11:18:09.518988Z",
     "shell.execute_reply": "2024-07-18T11:18:09.517076Z"
    },
    "papermill": {
     "duration": 610.185694,
     "end_time": "2024-07-18T11:18:09.551694",
     "exception": false,
     "start_time": "2024-07-18T11:07:59.366000",
     "status": "completed"
    },
    "tags": []
   },
   "outputs": [
    {
     "name": "stdout",
     "output_type": "stream",
     "text": [
      "Fitting 3 folds for each of 3 candidates, totalling 9 fits\n",
      "MLP Validation Accuracy: 0.8875\n",
      "Best Parameters: {'classifier__solver': 'adam', 'classifier__hidden_layer_sizes': (100,), 'classifier__alpha': 0.0001, 'classifier__activation': 'relu'}\n"
     ]
    }
   ],
   "source": [
    "# Multi-layer Perceptron (MLP) with cross-validation and hyperparameter tuning\n",
    "mlp_pipeline = Pipeline(steps=[\n",
    "    ('preprocessor', preprocessor),\n",
    "    ('classifier', MLPClassifier(max_iter=300))\n",
    "])\n",
    "\n",
    "param_grid_mlp = {\n",
    "    'classifier__hidden_layer_sizes': [(50,), (100,)],\n",
    "    'classifier__activation': ['relu', 'tanh'],\n",
    "    'classifier__solver': ['adam'],\n",
    "    'classifier__alpha': [0.0001]\n",
    "}\n",
    "\n",
    "random_search_mlp = RandomizedSearchCV(mlp_pipeline, param_distributions=param_grid_mlp, n_iter=3, cv=3, verbose=1, random_state=42, n_jobs=-1)\n",
    "random_search_mlp.fit(X_train, y_train)\n",
    "mlp_val_accuracy = accuracy_score(y_val, random_search_mlp.predict(X_val))\n",
    "print(f\"MLP Validation Accuracy: {mlp_val_accuracy:.4f}\")\n",
    "print(f\"Best Parameters: {random_search_mlp.best_params_}\")\n"
   ]
  },
  {
   "cell_type": "code",
   "execution_count": 21,
   "id": "7590d818",
   "metadata": {
    "execution": {
     "iopub.execute_input": "2024-07-18T11:18:09.618311Z",
     "iopub.status.busy": "2024-07-18T11:18:09.617936Z",
     "iopub.status.idle": "2024-07-18T11:18:09.622183Z",
     "shell.execute_reply": "2024-07-18T11:18:09.621268Z"
    },
    "papermill": {
     "duration": 0.036025,
     "end_time": "2024-07-18T11:18:09.624259",
     "exception": false,
     "start_time": "2024-07-18T11:18:09.588234",
     "status": "completed"
    },
    "tags": []
   },
   "outputs": [],
   "source": [
    "# # Save MLP predictions to CSV\n",
    "# test_predictions_mlp = random_search_mlp.predict(test_data)\n",
    "# submission_df_mlp = pd.DataFrame({\n",
    "#     'ID': range(1, len(test_predictions_mlp) + 1),\n",
    "#     'Crime_Category': test_predictions_mlp\n",
    "# })\n",
    "# submission_df_mlp.to_csv('submission_mlp.csv', index=False)"
   ]
  },
  {
   "cell_type": "markdown",
   "id": "56666dc0",
   "metadata": {
    "papermill": {
     "duration": 0.016699,
     "end_time": "2024-07-18T11:18:09.657936",
     "exception": false,
     "start_time": "2024-07-18T11:18:09.641237",
     "status": "completed"
    },
    "tags": []
   },
   "source": [
    "2nd BEST WORKING CODE BUT WITHOUT HYPERPARAMETER TUNING"
   ]
  },
  {
   "cell_type": "code",
   "execution_count": 22,
   "id": "51191194",
   "metadata": {
    "execution": {
     "iopub.execute_input": "2024-07-18T11:18:09.693869Z",
     "iopub.status.busy": "2024-07-18T11:18:09.693074Z",
     "iopub.status.idle": "2024-07-18T11:18:09.697986Z",
     "shell.execute_reply": "2024-07-18T11:18:09.696905Z"
    },
    "papermill": {
     "duration": 0.025578,
     "end_time": "2024-07-18T11:18:09.700490",
     "exception": false,
     "start_time": "2024-07-18T11:18:09.674912",
     "status": "completed"
    },
    "tags": []
   },
   "outputs": [],
   "source": [
    "# # Predict on the test set and save to CSV\n",
    "# test_predictions_bagging = random_search_bagging.predict(test_data)\n",
    "# submission_df_bagging = pd.DataFrame({\n",
    "#     'ID': range(1, len(test_predictions_bagging) + 1),\n",
    "#     'Crime_Category': test_predictions_bagging\n",
    "# })\n",
    "# submission_df_bagging.to_csv('submission_bagging.csv', index=False)"
   ]
  },
  {
   "cell_type": "code",
   "execution_count": 23,
   "id": "7af1a491",
   "metadata": {
    "execution": {
     "iopub.execute_input": "2024-07-18T11:18:09.737449Z",
     "iopub.status.busy": "2024-07-18T11:18:09.736504Z",
     "iopub.status.idle": "2024-07-18T11:18:09.742696Z",
     "shell.execute_reply": "2024-07-18T11:18:09.741499Z"
    },
    "papermill": {
     "duration": 0.027017,
     "end_time": "2024-07-18T11:18:09.745119",
     "exception": false,
     "start_time": "2024-07-18T11:18:09.718102",
     "status": "completed"
    },
    "tags": []
   },
   "outputs": [],
   "source": [
    "# # Function to extract date and time features\n",
    "# def extract_date_features(df):\n",
    "#     df['Date_Reported'] = pd.to_datetime(df['Date_Reported'])\n",
    "#     df['Date_Occurred'] = pd.to_datetime(df['Date_Occurred'])\n",
    "#     df['Year_Reported'] = df['Date_Reported'].dt.year\n",
    "#     df['Month_Reported'] = df['Date_Reported'].dt.month\n",
    "#     df['Day_Reported'] = df['Date_Reported'].dt.day\n",
    "#     df['Hour_Occurred'] = df['Date_Occurred'].dt.hour\n",
    "#     df['Day_Of_Week_Reported'] = df['Date_Reported'].dt.dayofweek\n",
    "#     df['Day_Of_Week_Occurred'] = df['Date_Occurred'].dt.dayofweek\n",
    "#     df.drop(columns=['Date_Reported', 'Date_Occurred'], inplace=True)\n",
    "\n",
    "# # Apply feature extraction\n",
    "# extract_date_features(train_data)\n",
    "# extract_date_features(test_data)\n",
    "\n",
    "# # Separate features and target variable from training data\n",
    "# X = train_data.drop(columns=['Crime_Category'])\n",
    "# y = train_data['Crime_Category']\n",
    "\n",
    "# # Identify numeric and categorical features\n",
    "# num_features = X.select_dtypes(include=['int64', 'float64']).columns\n",
    "# cat_features = X.select_dtypes(include=['object']).columns\n",
    "\n",
    "# # Preprocessing pipelines for numeric and categorical data\n",
    "# num_transformer = Pipeline(steps=[\n",
    "#     ('imputer', SimpleImputer(strategy='mean')),\n",
    "#     ('scaler', StandardScaler())\n",
    "# ])\n",
    "\n",
    "# cat_transformer = Pipeline(steps=[\n",
    "#     ('imputer', SimpleImputer(strategy='constant', fill_value='missing')),\n",
    "#     ('onehot', OneHotEncoder(handle_unknown='ignore'))\n",
    "# ])"
   ]
  },
  {
   "cell_type": "code",
   "execution_count": 24,
   "id": "ca265969",
   "metadata": {
    "execution": {
     "iopub.execute_input": "2024-07-18T11:18:09.781462Z",
     "iopub.status.busy": "2024-07-18T11:18:09.781065Z",
     "iopub.status.idle": "2024-07-18T11:18:09.786293Z",
     "shell.execute_reply": "2024-07-18T11:18:09.785147Z"
    },
    "papermill": {
     "duration": 0.026166,
     "end_time": "2024-07-18T11:18:09.788738",
     "exception": false,
     "start_time": "2024-07-18T11:18:09.762572",
     "status": "completed"
    },
    "tags": []
   },
   "outputs": [],
   "source": [
    "# # Combine preprocessing steps\n",
    "# preprocessor = ColumnTransformer(\n",
    "#     transformers=[\n",
    "#         ('num', num_transformer, num_features),\n",
    "#         ('cat', cat_transformer, cat_features)\n",
    "#     ]\n",
    "# )\n",
    "\n",
    "# # Split data into training and validation sets\n",
    "# X_train, X_val, y_train, y_val = train_test_split(X, y, test_size=0.2, random_state=42)\n"
   ]
  },
  {
   "cell_type": "code",
   "execution_count": 25,
   "id": "da242115",
   "metadata": {
    "execution": {
     "iopub.execute_input": "2024-07-18T11:18:09.826218Z",
     "iopub.status.busy": "2024-07-18T11:18:09.825260Z",
     "iopub.status.idle": "2024-07-18T11:18:09.830568Z",
     "shell.execute_reply": "2024-07-18T11:18:09.829310Z"
    },
    "papermill": {
     "duration": 0.027131,
     "end_time": "2024-07-18T11:18:09.833074",
     "exception": false,
     "start_time": "2024-07-18T11:18:09.805943",
     "status": "completed"
    },
    "tags": []
   },
   "outputs": [],
   "source": [
    "# # Logistic Regression\n",
    "# logistic_pipeline = Pipeline(steps=[\n",
    "#     ('preprocessor', preprocessor),\n",
    "#     ('classifier', LogisticRegression(max_iter=1000))\n",
    "# ])\n",
    "# logistic_pipeline.fit(X_train, y_train)\n",
    "# logistic_val_accuracy = accuracy_score(y_val, logistic_pipeline.predict(X_val))\n",
    "# print(f\"Logistic Regression Validation Accuracy: {logistic_val_accuracy:.4f}\")"
   ]
  },
  {
   "cell_type": "code",
   "execution_count": 26,
   "id": "f113fcaa",
   "metadata": {
    "execution": {
     "iopub.execute_input": "2024-07-18T11:18:09.869410Z",
     "iopub.status.busy": "2024-07-18T11:18:09.869016Z",
     "iopub.status.idle": "2024-07-18T11:18:09.874152Z",
     "shell.execute_reply": "2024-07-18T11:18:09.872937Z"
    },
    "papermill": {
     "duration": 0.026691,
     "end_time": "2024-07-18T11:18:09.876850",
     "exception": false,
     "start_time": "2024-07-18T11:18:09.850159",
     "status": "completed"
    },
    "tags": []
   },
   "outputs": [],
   "source": [
    "# # Decision Tree\n",
    "# decision_tree_pipeline = Pipeline(steps=[\n",
    "#     ('preprocessor', preprocessor),\n",
    "#     ('classifier', DecisionTreeClassifier(random_state=42))\n",
    "# ])\n",
    "# decision_tree_pipeline.fit(X_train, y_train)\n",
    "# decision_tree_val_accuracy = accuracy_score(y_val, decision_tree_pipeline.predict(X_val))\n",
    "# print(f\"Decision Tree Validation Accuracy: {decision_tree_val_accuracy:.4f}\")\n"
   ]
  },
  {
   "cell_type": "code",
   "execution_count": 27,
   "id": "f110c070",
   "metadata": {
    "execution": {
     "iopub.execute_input": "2024-07-18T11:18:09.913219Z",
     "iopub.status.busy": "2024-07-18T11:18:09.912833Z",
     "iopub.status.idle": "2024-07-18T11:18:09.917830Z",
     "shell.execute_reply": "2024-07-18T11:18:09.916669Z"
    },
    "papermill": {
     "duration": 0.025813,
     "end_time": "2024-07-18T11:18:09.920043",
     "exception": false,
     "start_time": "2024-07-18T11:18:09.894230",
     "status": "completed"
    },
    "tags": []
   },
   "outputs": [],
   "source": [
    "# # K-Nearest Neighbors\n",
    "# knn_pipeline = Pipeline(steps=[\n",
    "#     ('preprocessor', preprocessor),\n",
    "#     ('classifier', KNeighborsClassifier())\n",
    "# ])\n",
    "# knn_pipeline.fit(X_train, y_train)\n",
    "# knn_val_accuracy = accuracy_score(y_val, knn_pipeline.predict(X_val))\n",
    "# print(f\"K-Nearest Neighbors Validation Accuracy: {knn_val_accuracy:.4f}\")\n"
   ]
  },
  {
   "cell_type": "code",
   "execution_count": 28,
   "id": "3e3a5dbc",
   "metadata": {
    "execution": {
     "iopub.execute_input": "2024-07-18T11:18:09.956840Z",
     "iopub.status.busy": "2024-07-18T11:18:09.955656Z",
     "iopub.status.idle": "2024-07-18T11:18:09.961369Z",
     "shell.execute_reply": "2024-07-18T11:18:09.960395Z"
    },
    "papermill": {
     "duration": 0.026591,
     "end_time": "2024-07-18T11:18:09.963814",
     "exception": false,
     "start_time": "2024-07-18T11:18:09.937223",
     "status": "completed"
    },
    "tags": []
   },
   "outputs": [],
   "source": [
    "# # Support Vector Classifier\n",
    "# svc_pipeline = Pipeline(steps=[\n",
    "#     ('preprocessor', preprocessor),\n",
    "#     ('classifier', SVC())\n",
    "# ])\n",
    "# svc_pipeline.fit(X_train, y_train)\n",
    "# svc_val_accuracy = accuracy_score(y_val, svc_pipeline.predict(X_val))\n",
    "# print(f\"Support Vector Classifier Validation Accuracy: {svc_val_accuracy:.4f}\")# Support Vector Classifier\n",
    "# svc_pipeline = Pipeline(steps=[\n",
    "#     ('preprocessor', preprocessor),\n",
    "#     ('classifier', SVC())\n",
    "# ])\n",
    "# svc_pipeline.fit(X_train, y_train)\n",
    "# svc_val_accuracy = accuracy_score(y_val, svc_pipeline.predict(X_val))\n",
    "# print(f\"Support Vector Classifier Validation Accuracy: {svc_val_accuracy:.4f}\")"
   ]
  },
  {
   "cell_type": "code",
   "execution_count": 29,
   "id": "bda69f0f",
   "metadata": {
    "execution": {
     "iopub.execute_input": "2024-07-18T11:18:10.000298Z",
     "iopub.status.busy": "2024-07-18T11:18:09.999883Z",
     "iopub.status.idle": "2024-07-18T11:18:10.005131Z",
     "shell.execute_reply": "2024-07-18T11:18:10.003942Z"
    },
    "papermill": {
     "duration": 0.026226,
     "end_time": "2024-07-18T11:18:10.007550",
     "exception": false,
     "start_time": "2024-07-18T11:18:09.981324",
     "status": "completed"
    },
    "tags": []
   },
   "outputs": [],
   "source": [
    "# # Random Forest\n",
    "# random_forest_pipeline = Pipeline(steps=[\n",
    "#     ('preprocessor', preprocessor),\n",
    "#     ('classifier', RandomForestClassifier(random_state=42))\n",
    "# ])\n",
    "# random_forest_pipeline.fit(X_train, y_train)\n",
    "# random_forest_val_accuracy = accuracy_score(y_val, random_forest_pipeline.predict(X_val))\n",
    "# print(f\"Random Forest Validation Accuracy: {random_forest_val_accuracy:.4f}\")\n"
   ]
  },
  {
   "cell_type": "code",
   "execution_count": 30,
   "id": "d09a948c",
   "metadata": {
    "execution": {
     "iopub.execute_input": "2024-07-18T11:18:10.044156Z",
     "iopub.status.busy": "2024-07-18T11:18:10.043768Z",
     "iopub.status.idle": "2024-07-18T11:18:10.048937Z",
     "shell.execute_reply": "2024-07-18T11:18:10.047801Z"
    },
    "papermill": {
     "duration": 0.026011,
     "end_time": "2024-07-18T11:18:10.051229",
     "exception": false,
     "start_time": "2024-07-18T11:18:10.025218",
     "status": "completed"
    },
    "tags": []
   },
   "outputs": [],
   "source": [
    "# # Gradient Boosting\n",
    "# gradient_boosting_pipeline = Pipeline(steps=[\n",
    "#     ('preprocessor', preprocessor),\n",
    "#     ('classifier', GradientBoostingClassifier(random_state=42))\n",
    "# ])\n",
    "# gradient_boosting_pipeline.fit(X_train, y_train)\n",
    "# gradient_boosting_val_accuracy = accuracy_score(y_val, gradient_boosting_pipeline.predict(X_val))\n",
    "# print(f\"Gradient Boosting Validation Accuracy: {gradient_boosting_val_accuracy:.4f}\")\n"
   ]
  },
  {
   "cell_type": "code",
   "execution_count": 31,
   "id": "debc6ad1",
   "metadata": {
    "execution": {
     "iopub.execute_input": "2024-07-18T11:18:10.087576Z",
     "iopub.status.busy": "2024-07-18T11:18:10.087133Z",
     "iopub.status.idle": "2024-07-18T11:18:10.092281Z",
     "shell.execute_reply": "2024-07-18T11:18:10.091148Z"
    },
    "papermill": {
     "duration": 0.026213,
     "end_time": "2024-07-18T11:18:10.094745",
     "exception": false,
     "start_time": "2024-07-18T11:18:10.068532",
     "status": "completed"
    },
    "tags": []
   },
   "outputs": [],
   "source": [
    "# # Bagging Classifier\n",
    "# bagging_pipeline = Pipeline(steps=[\n",
    "#     ('preprocessor', preprocessor),\n",
    "#     ('classifier', BaggingClassifier(random_state=42))\n",
    "# ])\n",
    "# bagging_pipeline.fit(X_train, y_train)\n",
    "# bagging_val_accuracy = accuracy_score(y_val, bagging_pipeline.predict(X_val))\n",
    "# print(f\"Bagging Classifier Validation Accuracy: {bagging_val_accuracy:.4f}\")\n"
   ]
  },
  {
   "cell_type": "code",
   "execution_count": 32,
   "id": "93bccb4c",
   "metadata": {
    "execution": {
     "iopub.execute_input": "2024-07-18T11:18:10.130965Z",
     "iopub.status.busy": "2024-07-18T11:18:10.130551Z",
     "iopub.status.idle": "2024-07-18T11:18:10.135961Z",
     "shell.execute_reply": "2024-07-18T11:18:10.134777Z"
    },
    "papermill": {
     "duration": 0.026518,
     "end_time": "2024-07-18T11:18:10.138618",
     "exception": false,
     "start_time": "2024-07-18T11:18:10.112100",
     "status": "completed"
    },
    "tags": []
   },
   "outputs": [],
   "source": [
    "# # Select the best model for final prediction\n",
    "# best_model_pipeline = gradient_boosting_pipeline  # Replace with the best model based on validation accuracy\n",
    "\n",
    "# # Fit the best model on the entire training data\n",
    "# best_model_pipeline.fit(X_train, y_train)\n",
    "\n",
    "# # Predict on the test set\n",
    "# test_predictions = best_model_pipeline.predict(test_data)\n",
    "\n",
    "# # Create submission DataFrame\n",
    "# submission_df = pd.DataFrame({\n",
    "#     'ID': range(1, len(test_predictions) + 1),\n",
    "#     'Crime_Category': test_predictions\n",
    "# })\n",
    "\n",
    "# # Save submission to CSV\n",
    "# submission_df.to_csv('submission.csv', index=False)"
   ]
  },
  {
   "cell_type": "markdown",
   "id": "d9734856",
   "metadata": {
    "papermill": {
     "duration": 0.017332,
     "end_time": "2024-07-18T11:18:10.173171",
     "exception": false,
     "start_time": "2024-07-18T11:18:10.155839",
     "status": "completed"
    },
    "tags": []
   },
   "source": [
    "OLD WORKING CODE"
   ]
  },
  {
   "cell_type": "code",
   "execution_count": 33,
   "id": "3e6a335e",
   "metadata": {
    "execution": {
     "iopub.execute_input": "2024-07-18T11:18:10.209995Z",
     "iopub.status.busy": "2024-07-18T11:18:10.209616Z",
     "iopub.status.idle": "2024-07-18T11:18:10.214939Z",
     "shell.execute_reply": "2024-07-18T11:18:10.213735Z"
    },
    "papermill": {
     "duration": 0.026383,
     "end_time": "2024-07-18T11:18:10.217187",
     "exception": false,
     "start_time": "2024-07-18T11:18:10.190804",
     "status": "completed"
    },
    "tags": []
   },
   "outputs": [],
   "source": [
    "# # Check for missing values\n",
    "# print(train_df.isnull().sum())\n",
    "\n",
    "# # Data types and summary statistics\n",
    "# print(train_df.info())\n",
    "# print(train_df.describe())\n",
    "\n",
    "# # Dropping non-numeric columns for correlation matrix\n",
    "# numeric_df = train_df.select_dtypes(include=[np.number])\n",
    "\n",
    "# # Correlation matrix\n",
    "# plt.figure(figsize=(12, 8))\n",
    "# sns.heatmap(numeric_df.corr(), annot=True)\n",
    "# plt.show()\n"
   ]
  },
  {
   "cell_type": "code",
   "execution_count": 34,
   "id": "17935a07",
   "metadata": {
    "execution": {
     "iopub.execute_input": "2024-07-18T11:18:10.253140Z",
     "iopub.status.busy": "2024-07-18T11:18:10.252736Z",
     "iopub.status.idle": "2024-07-18T11:18:10.258747Z",
     "shell.execute_reply": "2024-07-18T11:18:10.257737Z"
    },
    "papermill": {
     "duration": 0.027004,
     "end_time": "2024-07-18T11:18:10.261174",
     "exception": false,
     "start_time": "2024-07-18T11:18:10.234170",
     "status": "completed"
    },
    "tags": []
   },
   "outputs": [],
   "source": [
    "# # Extracting date and time features\n",
    "# train_df['Date_Reported'] = pd.to_datetime(train_df['Date_Reported'])\n",
    "# train_df['Date_Occurred'] = pd.to_datetime(train_df['Date_Occurred'])\n",
    "\n",
    "# # Example of feature extraction\n",
    "# train_df['Year_Reported'] = train_df['Date_Reported'].dt.year\n",
    "# train_df['Month_Reported'] = train_df['Date_Reported'].dt.month\n",
    "# train_df['Day_Reported'] = train_df['Date_Reported'].dt.day\n",
    "# train_df['Hour_Occurred'] = train_df['Date_Occurred'].dt.hour\n",
    "# train_df['Day_Of_Week_Reported'] = train_df['Date_Reported'].dt.dayofweek\n",
    "# train_df['Day_Of_Week_Occurred'] = train_df['Date_Occurred'].dt.dayofweek\n",
    "\n",
    "# # Dropping the original Date columns\n",
    "# train_df = train_df.drop(columns=['Date_Reported', 'Date_Occurred'])\n",
    "\n",
    "# # Apply the same transformations to the test data\n",
    "# test_df['Date_Reported'] = pd.to_datetime(test_df['Date_Reported'])\n",
    "# test_df['Date_Occurred'] = pd.to_datetime(test_df['Date_Occurred'])\n",
    "\n",
    "# test_df['Year_Reported'] = test_df['Date_Reported'].dt.year\n",
    "# test_df['Month_Reported'] = test_df['Date_Reported'].dt.month\n",
    "# test_df['Day_Reported'] = test_df['Date_Reported'].dt.day\n",
    "# test_df['Hour_Occurred'] = test_df['Date_Occurred'].dt.hour\n",
    "# test_df['Day_Of_Week_Reported'] = test_df['Date_Reported'].dt.dayofweek\n",
    "# test_df['Day_Of_Week_Occurred'] = test_df['Date_Occurred'].dt.dayofweek\n",
    "\n",
    "# test_df = test_df.drop(columns=['Date_Reported', 'Date_Occurred'])\n"
   ]
  },
  {
   "cell_type": "code",
   "execution_count": 35,
   "id": "529f4a28",
   "metadata": {
    "execution": {
     "iopub.execute_input": "2024-07-18T11:18:10.296954Z",
     "iopub.status.busy": "2024-07-18T11:18:10.296550Z",
     "iopub.status.idle": "2024-07-18T11:18:10.301731Z",
     "shell.execute_reply": "2024-07-18T11:18:10.300717Z"
    },
    "papermill": {
     "duration": 0.025693,
     "end_time": "2024-07-18T11:18:10.303970",
     "exception": false,
     "start_time": "2024-07-18T11:18:10.278277",
     "status": "completed"
    },
    "tags": []
   },
   "outputs": [],
   "source": [
    "# # Preprocessing pipeline\n",
    "# numerical_features = ['Latitude', 'Longitude', 'Time_Occurred', 'Victim_Age', 'Year_Reported', 'Month_Reported', 'Day_Reported', 'Hour_Occurred', 'Day_Of_Week_Reported', 'Day_Of_Week_Occurred']\n",
    "# categorical_features = ['Location', 'Cross_Street', 'Area_Name', 'Victim_Sex', 'Victim_Descent', 'Premise_Description', 'Weapon_Description']\n",
    "\n",
    "# numerical_transformer = StandardScaler()\n",
    "# categorical_transformer = OneHotEncoder(handle_unknown='ignore')\n",
    "\n",
    "# preprocessor = ColumnTransformer(\n",
    "#     transformers=[\n",
    "#         ('num', numerical_transformer, numerical_features),\n",
    "#         ('cat', categorical_transformer, categorical_features)\n",
    "#     ])\n"
   ]
  },
  {
   "cell_type": "code",
   "execution_count": 36,
   "id": "486d624a",
   "metadata": {
    "execution": {
     "iopub.execute_input": "2024-07-18T11:18:10.340525Z",
     "iopub.status.busy": "2024-07-18T11:18:10.339518Z",
     "iopub.status.idle": "2024-07-18T11:18:10.345113Z",
     "shell.execute_reply": "2024-07-18T11:18:10.343668Z"
    },
    "papermill": {
     "duration": 0.026643,
     "end_time": "2024-07-18T11:18:10.347725",
     "exception": false,
     "start_time": "2024-07-18T11:18:10.321082",
     "status": "completed"
    },
    "tags": []
   },
   "outputs": [],
   "source": [
    "# # Separate features and target variable\n",
    "# X = train_df.drop(columns=['Crime_Category'])\n",
    "# y = train_df['Crime_Category']\n",
    "\n",
    "# # Applying the preprocessing steps to the data\n",
    "# X = preprocessor.fit_transform(X)\n",
    "# X_test = preprocessor.transform(test_df)\n"
   ]
  },
  {
   "cell_type": "code",
   "execution_count": 37,
   "id": "296e0a03",
   "metadata": {
    "execution": {
     "iopub.execute_input": "2024-07-18T11:18:10.383927Z",
     "iopub.status.busy": "2024-07-18T11:18:10.383549Z",
     "iopub.status.idle": "2024-07-18T11:18:10.388622Z",
     "shell.execute_reply": "2024-07-18T11:18:10.387386Z"
    },
    "papermill": {
     "duration": 0.026002,
     "end_time": "2024-07-18T11:18:10.391035",
     "exception": false,
     "start_time": "2024-07-18T11:18:10.365033",
     "status": "completed"
    },
    "tags": []
   },
   "outputs": [],
   "source": [
    "# # Splitting the data into training and validation sets\n",
    "# # change test size\n",
    "# X_train, X_val, y_train, y_val = train_test_split(X, y, test_size=0.1, random_state=40)"
   ]
  },
  {
   "cell_type": "code",
   "execution_count": 38,
   "id": "5a18439c",
   "metadata": {
    "execution": {
     "iopub.execute_input": "2024-07-18T11:18:10.427984Z",
     "iopub.status.busy": "2024-07-18T11:18:10.427561Z",
     "iopub.status.idle": "2024-07-18T11:18:10.433040Z",
     "shell.execute_reply": "2024-07-18T11:18:10.431860Z"
    },
    "papermill": {
     "duration": 0.02643,
     "end_time": "2024-07-18T11:18:10.435359",
     "exception": false,
     "start_time": "2024-07-18T11:18:10.408929",
     "status": "completed"
    },
    "tags": []
   },
   "outputs": [],
   "source": [
    "# # Logistic Regression\n",
    "# logistic_model = LogisticRegression(max_iter=1000)\n",
    "# logistic_model.fit(X_train, y_train)\n",
    "\n",
    "# # Predicting on the validation set\n",
    "# y_pred_logistic = logistic_model.predict(X_val)\n",
    "# logistic_accuracy = accuracy_score(y_val, y_pred_logistic)\n",
    "# print(f'Logistic Regression Accuracy: {logistic_accuracy:.4f}')\n",
    "\n",
    "# # Predicting on the test set\n",
    "# test_predictions_logistic = logistic_model.predict(X_test)\n",
    "\n",
    "# # # Save predictions to CSV file\n",
    "# # submission_logistic = pd.DataFrame({'ID': test_df.index + 1, 'Crime_Category': test_predictions_logistic})\n",
    "# # submission_logistic.to_csv('submission_Logistic_Regression.csv', index=False)\n"
   ]
  },
  {
   "cell_type": "code",
   "execution_count": 39,
   "id": "16588cb4",
   "metadata": {
    "execution": {
     "iopub.execute_input": "2024-07-18T11:18:10.472368Z",
     "iopub.status.busy": "2024-07-18T11:18:10.471981Z",
     "iopub.status.idle": "2024-07-18T11:18:10.477227Z",
     "shell.execute_reply": "2024-07-18T11:18:10.476066Z"
    },
    "papermill": {
     "duration": 0.026734,
     "end_time": "2024-07-18T11:18:10.479691",
     "exception": false,
     "start_time": "2024-07-18T11:18:10.452957",
     "status": "completed"
    },
    "tags": []
   },
   "outputs": [],
   "source": [
    "# # Random Forest\n",
    "# rf = RandomForestClassifier(n_estimators=100)\n",
    "# rf.fit(X_train, y_train)\n",
    "\n",
    "# # Predicting on the validation set\n",
    "# y_pred_rf = rf.predict(X_val)\n",
    "# rf_accuracy = accuracy_score(y_val, y_pred_rf)\n",
    "# print(f'Random Forest Accuracy: {rf_accuracy:.4f}')\n",
    "\n",
    "# # Predicting on the test set\n",
    "# test_predictions_rf = rf.predict(X_test)\n",
    "\n",
    "# # # Save predictions to CSV file\n",
    "# # submission_rf = pd.DataFrame({'ID': test_df.index + 1, 'Crime_Category': test_predictions_rf})\n",
    "# # submission_rf.to_csv('submission_Random_Forest.csv', index=False)\n"
   ]
  },
  {
   "cell_type": "code",
   "execution_count": null,
   "id": "18281474",
   "metadata": {
    "papermill": {
     "duration": 0.017649,
     "end_time": "2024-07-18T11:18:10.514971",
     "exception": false,
     "start_time": "2024-07-18T11:18:10.497322",
     "status": "completed"
    },
    "tags": []
   },
   "outputs": [],
   "source": []
  },
  {
   "cell_type": "code",
   "execution_count": 40,
   "id": "ab9ada0e",
   "metadata": {
    "execution": {
     "iopub.execute_input": "2024-07-18T11:18:10.551608Z",
     "iopub.status.busy": "2024-07-18T11:18:10.551129Z",
     "iopub.status.idle": "2024-07-18T11:18:10.556544Z",
     "shell.execute_reply": "2024-07-18T11:18:10.555379Z"
    },
    "papermill": {
     "duration": 0.026524,
     "end_time": "2024-07-18T11:18:10.558974",
     "exception": false,
     "start_time": "2024-07-18T11:18:10.532450",
     "status": "completed"
    },
    "tags": []
   },
   "outputs": [],
   "source": [
    "# import numpy as np\n",
    "# import pandas as pd\n",
    "# import seaborn as sns\n",
    "# import matplotlib.pyplot as plt\n",
    "# from sklearn.preprocessing import StandardScaler, OneHotEncoder, LabelEncoder\n",
    "# from sklearn.compose import ColumnTransformer\n",
    "# from sklearn.pipeline import Pipeline\n",
    "# from sklearn.model_selection import train_test_split, RandomizedSearchCV\n",
    "# from sklearn.metrics import accuracy_score\n",
    "# import xgboost as xgb\n",
    "# import warnings\n",
    "# warnings.filterwarnings(\"ignore\")\n",
    "\n",
    "# # Load the datasets\n",
    "# train_df = pd.read_csv('/kaggle/input/crime-cast-forecasting-crime-categories/train.csv')\n",
    "# test_df = pd.read_csv('/kaggle/input/crime-cast-forecasting-crime-categories/test.csv')\n",
    "\n"
   ]
  },
  {
   "cell_type": "code",
   "execution_count": 41,
   "id": "09a30db0",
   "metadata": {
    "execution": {
     "iopub.execute_input": "2024-07-18T11:18:10.596649Z",
     "iopub.status.busy": "2024-07-18T11:18:10.596207Z",
     "iopub.status.idle": "2024-07-18T11:18:10.601428Z",
     "shell.execute_reply": "2024-07-18T11:18:10.600322Z"
    },
    "papermill": {
     "duration": 0.027038,
     "end_time": "2024-07-18T11:18:10.603742",
     "exception": false,
     "start_time": "2024-07-18T11:18:10.576704",
     "status": "completed"
    },
    "tags": []
   },
   "outputs": [],
   "source": [
    "# # Display the first few rows of the training dataset\n",
    "# print(train_df.head())\n",
    "\n",
    "# # Check for missing values\n",
    "# print(train_df.isnull().sum())\n",
    "\n",
    "# # Data types and summary statistics\n",
    "# print(train_df.info())\n",
    "# print(train_df.describe())\n"
   ]
  },
  {
   "cell_type": "code",
   "execution_count": 42,
   "id": "1a9567a8",
   "metadata": {
    "execution": {
     "iopub.execute_input": "2024-07-18T11:18:10.641966Z",
     "iopub.status.busy": "2024-07-18T11:18:10.640869Z",
     "iopub.status.idle": "2024-07-18T11:18:10.648201Z",
     "shell.execute_reply": "2024-07-18T11:18:10.647095Z"
    },
    "papermill": {
     "duration": 0.029196,
     "end_time": "2024-07-18T11:18:10.650658",
     "exception": false,
     "start_time": "2024-07-18T11:18:10.621462",
     "status": "completed"
    },
    "tags": []
   },
   "outputs": [],
   "source": [
    "# # Dropping non-numeric columns for correlation matrix\n",
    "# numeric_df = train_df.select_dtypes(include=[np.number])\n",
    "\n",
    "# # Correlation matrix\n",
    "# plt.figure(figsize=(12, 8))\n",
    "# sns.heatmap(numeric_df.corr(), annot=True)\n",
    "# plt.show()\n",
    "\n",
    "# # Extracting date and time features\n",
    "# train_df['Date_Reported'] = pd.to_datetime(train_df['Date_Reported'])\n",
    "# train_df['Date_Occurred'] = pd.to_datetime(train_df['Date_Occurred'])\n",
    "\n",
    "# # Example of feature extraction\n",
    "# train_df['Year_Reported'] = train_df['Date_Reported'].dt.year\n",
    "# train_df['Month_Reported'] = train_df['Date_Reported'].dt.month\n",
    "# train_df['Day_Reported'] = train_df['Date_Reported'].dt.day\n",
    "# train_df['Hour_Occurred'] = train_df['Date_Occurred'].dt.hour\n",
    "# train_df['Day_Of_Week_Reported'] = train_df['Date_Reported'].dt.dayofweek\n",
    "# train_df['Day_Of_Week_Occurred'] = train_df['Date_Occurred'].dt.dayofweek\n",
    "\n",
    "# # Dropping the original Date columns\n",
    "# train_df = train_df.drop(columns=['Date_Reported', 'Date_Occurred'])\n",
    "\n",
    "# # Apply the same transformations to the test data\n",
    "# test_df['Date_Reported'] = pd.to_datetime(test_df['Date_Reported'])\n",
    "# test_df['Date_Occurred'] = pd.to_datetime(test_df['Date_Occurred'])\n",
    "\n",
    "# test_df['Year_Reported'] = test_df['Date_Reported'].dt.year\n",
    "# test_df['Month_Reported'] = test_df['Date_Reported'].dt.month\n",
    "# test_df['Day_Reported'] = test_df['Date_Reported'].dt.day\n",
    "# test_df['Hour_Occurred'] = test_df['Date_Occurred'].dt.hour\n",
    "# test_df['Day_Of_Week_Reported'] = test_df['Date_Reported'].dt.dayofweek\n",
    "# test_df['Day_Of_Week_Occurred'] = test_df['Date_Occurred'].dt.dayofweek\n",
    "\n",
    "# test_df = test_df.drop(columns=['Date_Reported', 'Date_Occurred'])\n",
    "\n",
    "# # Preprocessing pipeline\n",
    "# numerical_features = ['Latitude', 'Longitude', 'Time_Occurred', 'Victim_Age', 'Year_Reported', 'Month_Reported', 'Day_Reported', 'Hour_Occurred', 'Day_Of_Week_Reported', 'Day_Of_Week_Occurred']\n",
    "# categorical_features = ['Location', 'Cross_Street', 'Area_Name', 'Victim_Sex', 'Victim_Descent', 'Premise_Description', 'Weapon_Description']\n",
    "\n",
    "# numerical_transformer = StandardScaler()\n",
    "# categorical_transformer = OneHotEncoder(handle_unknown='ignore')\n",
    "\n",
    "# preprocessor = ColumnTransformer(\n",
    "#     transformers=[\n",
    "#         ('num', numerical_transformer, numerical_features),\n",
    "#         ('cat', categorical_transformer, categorical_features)\n",
    "#     ])"
   ]
  },
  {
   "cell_type": "code",
   "execution_count": 43,
   "id": "dad35843",
   "metadata": {
    "execution": {
     "iopub.execute_input": "2024-07-18T11:18:10.688806Z",
     "iopub.status.busy": "2024-07-18T11:18:10.687892Z",
     "iopub.status.idle": "2024-07-18T11:18:10.693141Z",
     "shell.execute_reply": "2024-07-18T11:18:10.692050Z"
    },
    "papermill": {
     "duration": 0.026755,
     "end_time": "2024-07-18T11:18:10.695668",
     "exception": false,
     "start_time": "2024-07-18T11:18:10.668913",
     "status": "completed"
    },
    "tags": []
   },
   "outputs": [],
   "source": [
    "# # Separate features and target variable\n",
    "# X = train_df.drop(columns=['Crime_Category'])\n",
    "# y = train_df['Crime_Category']\n",
    "\n",
    "# # Encode the target variable\n",
    "# label_encoder = LabelEncoder()\n",
    "# y = label_encoder.fit_transform(y)\n",
    "\n",
    "# # Applying the preprocessing steps to the data\n",
    "# X = preprocessor.fit_transform(X)\n",
    "# X_test = preprocessor.transform(test_df)\n",
    "\n",
    "# # Splitting the data into training and validation sets\n",
    "# X_train, X_val, y_train, y_val = train_test_split(X, y, test_size=0.2, random_state=42)\n"
   ]
  },
  {
   "cell_type": "code",
   "execution_count": 44,
   "id": "7e6305a8",
   "metadata": {
    "execution": {
     "iopub.execute_input": "2024-07-18T11:18:10.732731Z",
     "iopub.status.busy": "2024-07-18T11:18:10.732297Z",
     "iopub.status.idle": "2024-07-18T11:18:10.738027Z",
     "shell.execute_reply": "2024-07-18T11:18:10.736859Z"
    },
    "papermill": {
     "duration": 0.027282,
     "end_time": "2024-07-18T11:18:10.740473",
     "exception": false,
     "start_time": "2024-07-18T11:18:10.713191",
     "status": "completed"
    },
    "tags": []
   },
   "outputs": [],
   "source": [
    "# # Define the parameter grid for XGBoost\n",
    "# xgb_params = {\n",
    "#     'n_estimators': [100, 200],\n",
    "#     'learning_rate': [0.01, 0.1],\n",
    "#     'max_depth': [3, 6, 9],\n",
    "#     'colsample_bytree': [0.6, 0.8, 1.0],\n",
    "#     'subsample': [0.6, 0.8, 1.0]\n",
    "# }\n",
    "\n",
    "# # Create the RandomizedSearchCV object\n",
    "# random_search_xgb = RandomizedSearchCV(xgb.XGBClassifier(use_label_encoder=False, eval_metric='mlogloss'), param_distributions=xgb_params, n_iter=20, cv=3, n_jobs=-1, verbose=2, random_state=42)\n",
    "\n",
    "# # Fit the model\n",
    "# random_search_xgb.fit(X_train, y_train)\n",
    "\n",
    "# # Best XGBoost Model\n",
    "# best_xgb = random_search_xgb.best_estimator_\n",
    "# y_pred_best_xgb = best_xgb.predict(X_val)\n",
    "# best_xgb_accuracy = accuracy_score(y_val, y_pred_best_xgb)\n",
    "# print(f'Best XGBoost Accuracy: {best_xgb_accuracy:.4f}')\n"
   ]
  },
  {
   "cell_type": "code",
   "execution_count": 45,
   "id": "132e5022",
   "metadata": {
    "execution": {
     "iopub.execute_input": "2024-07-18T11:18:10.777802Z",
     "iopub.status.busy": "2024-07-18T11:18:10.776794Z",
     "iopub.status.idle": "2024-07-18T11:18:10.781947Z",
     "shell.execute_reply": "2024-07-18T11:18:10.780838Z"
    },
    "papermill": {
     "duration": 0.026258,
     "end_time": "2024-07-18T11:18:10.784181",
     "exception": false,
     "start_time": "2024-07-18T11:18:10.757923",
     "status": "completed"
    },
    "tags": []
   },
   "outputs": [],
   "source": [
    "# # Predicting on the test set\n",
    "# test_predictions_best_xgb = best_xgb.predict(X_test)\n",
    "\n",
    "# # Decode the predictions back to original labels\n",
    "# test_predictions_best_xgb = label_encoder.inverse_transform(test_predictions_best_xgb)\n",
    "\n",
    "# # Save predictions to CSV file\n",
    "# submission_best_xgb = pd.DataFrame({'ID': test_df.index + 1, 'Crime_Category': test_predictions_best_xgb})\n",
    "# submission_best_xgb.to_csv('submission.csv', index=False)"
   ]
  }
 ],
 "metadata": {
  "kaggle": {
   "accelerator": "none",
   "dataSources": [
    {
     "databundleVersionId": 8446444,
     "sourceId": 77420,
     "sourceType": "competition"
    }
   ],
   "dockerImageVersionId": 30732,
   "isGpuEnabled": false,
   "isInternetEnabled": false,
   "language": "python",
   "sourceType": "notebook"
  },
  "kernelspec": {
   "display_name": "Python 3",
   "language": "python",
   "name": "python3"
  },
  "language_info": {
   "codemirror_mode": {
    "name": "ipython",
    "version": 3
   },
   "file_extension": ".py",
   "mimetype": "text/x-python",
   "name": "python",
   "nbconvert_exporter": "python",
   "pygments_lexer": "ipython3",
   "version": "3.10.13"
  },
  "papermill": {
   "default_parameters": {},
   "duration": 3428.433986,
   "end_time": "2024-07-18T11:18:13.431859",
   "environment_variables": {},
   "exception": null,
   "input_path": "__notebook__.ipynb",
   "output_path": "__notebook__.ipynb",
   "parameters": {},
   "start_time": "2024-07-18T10:21:04.997873",
   "version": "2.5.0"
  }
 },
 "nbformat": 4,
 "nbformat_minor": 5
}
